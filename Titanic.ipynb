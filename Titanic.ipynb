{
 "cells": [
  {
   "cell_type": "markdown",
   "metadata": {
    "id": "RfcJXFUruU2i"
   },
   "source": [
    "\n",
    "\n"
   ]
  },
  {
   "cell_type": "markdown",
   "metadata": {
    "id": "GOJzH2R1ugLR"
   },
   "source": [
    "**Data Description and Background**\n",
    "\n",
    "The RMS Titanic was a passenger liner built in 1912 and at the time had the distinction of being the largest sea-going vessel in the world. However, its legacy was forever defined the morning of April 15, 1912 when on its maiden voyage. While navigating the icy and treacherous North Atlantic waters off the coast of Newfoundland, the ship collided with an iceberg in the early morning hours. The collision compromised the integrity of the vessel's hull leading it to take on large amounts of water. Gorged with water and straining to stay afloat, the mighty vessel upended, heaving its stern high into the air. Not intended to handle the stresses of such a posture, the boat broke in two and sank to its current resting place on the ocean floor just hours after the fateful collision.\n",
    "\n",
    "There were over 2,200 people on board for the trek (885 crew and 1317 passengers), yet the Titanic was only equipped with enough lifeboats to accommodate 1178 people. Sadly, even less people were saved since many life-boats were launched at less than peak capacity during the evacuation. Tragically, more than 1,500 people drowned or froze to death that day in the icy waters of the North Atlantic making the Titanic's sinking one of history's most infamous maritime disasters. The dataset you will be analyzing is a listing of the passenger log and contains the following variables:\n",
    "\n",
    "*Name: The name of the passenger\n",
    "\n",
    "*Age: The passenger's age at the time of the sinking. With the exception of infants under 1 year old, the age is rounded to the nearest integer.\n",
    "\n",
    "*Pclass: The class of accommodation the passenger was travelling in. 1st class accommodations were the most expensive and offered passengers the most luxurious accommodations for the trans- oceanic trip. While still having many comforts, 2nd class was not as lavish as 1st class but also more affordable whereas 3rd class was the cheapest and only provided the most basic of accommodations. Given the disparity between the costs of the accommodations, only the opulent and privileged could enjoy the luxuries afforded by first class leaving second class to be filled by those whose level of wealth was not as exorbitant as those in 1st class. However, for those with little, 3rd class was the only accommodations affordable. Consequently, the class of accommodations is often used as a proxy for a passenger's socio-economic standing within society at that time.\n",
    "\n",
    "*Sex: The gender of the passenger.\n",
    "\n",
    "*Survived: A 0-1 coded variable where 1 indicates the passenger survived and 0 indicates they perished.\n"
   ]
  },
  {
   "cell_type": "markdown",
   "metadata": {
    "id": "mRXEpJQhu1yI"
   },
   "source": [
    "Question: \n",
    "\n",
    "1. focus on the passenger class. For each class, calculate and report the proportion of passengers who survived. Are there differences between the proportions of people who survived in each class? Is there any trend?\n",
    "\n",
    "2. Since there were not enough life-boats to accommodate every passenger, when it came time to evacuate the ship the time-honored tradition of \"women and children first\" was practiced when determining who would be granted a spot on a life boat. Similar to part 1, calculate and report the proportion of women who survived and the proportion of men who survived and comment on your findings.\n",
    "\n",
    "3. For age, create the following age groups:\n",
    "\n",
    "\n",
    "*   Children: Less than 17 years old\n",
    "*   Young Adults: 18 years old to 30 years old\n",
    "*   Middle Aged: 31 to 50 years old\n",
    "*   Elderly: Greater than 50 years old\n",
    "\n",
    "Calculate and report the proportion of people who survived for each age group separately. Are there any differences/trends for the proportions of survivors in each age group?\n",
    "\n",
    "4. Fit a logistic regression model where the response variable is survival and the explanatory variables are age (as a numerical variable) and passenger class & gender as categorical variables. For incorporating the categorical variables, use a fixed slope model for each one (do no not use any interaction terms).\n",
    "\n",
    "5. Report the estimated coefficients and interpret them.\n",
    "\n",
    "6. It is desired to know whether there was preferential treatment for those of higher socio- economic standing when deciding who will be able to board a life-boat and thus survive. Based on your findings from part 1. Set up and execute the proper hypothesis tests to determine whether any preferential treatment was present. Recall there were three passenger classes, so one must do a separate test comparing each class pairwise. Perform the tests so that the overall Type I error is no greater than alpha = 0.1."
   ]
  },
  {
   "cell_type": "markdown",
   "metadata": {},
   "source": [
    "### Import libraries and read the data."
   ]
  },
  {
   "cell_type": "code",
   "execution_count": 59,
   "metadata": {
    "id": "ZYm4ZXl_ufDz"
   },
   "outputs": [],
   "source": [
    "import pandas as pd\n",
    "import numpy as np\n",
    "df = pd.read_csv(r\"C:\\\\Users\\\\91958\\\\Documents\\\\SEM2\\\\Applied_Stat_660\\\\titanic.csv\")"
   ]
  },
  {
   "cell_type": "code",
   "execution_count": 60,
   "metadata": {},
   "outputs": [
    {
     "data": {
      "text/html": [
       "<div>\n",
       "<style scoped>\n",
       "    .dataframe tbody tr th:only-of-type {\n",
       "        vertical-align: middle;\n",
       "    }\n",
       "\n",
       "    .dataframe tbody tr th {\n",
       "        vertical-align: top;\n",
       "    }\n",
       "\n",
       "    .dataframe thead th {\n",
       "        text-align: right;\n",
       "    }\n",
       "</style>\n",
       "<table border=\"1\" class=\"dataframe\">\n",
       "  <thead>\n",
       "    <tr style=\"text-align: right;\">\n",
       "      <th></th>\n",
       "      <th>Survived</th>\n",
       "      <th>Pclass</th>\n",
       "      <th>Name</th>\n",
       "      <th>Sex</th>\n",
       "      <th>Age</th>\n",
       "      <th>Siblings/Spouses Aboard</th>\n",
       "      <th>Parents/Children Aboard</th>\n",
       "      <th>Fare</th>\n",
       "    </tr>\n",
       "  </thead>\n",
       "  <tbody>\n",
       "    <tr>\n",
       "      <th>0</th>\n",
       "      <td>0</td>\n",
       "      <td>3</td>\n",
       "      <td>Mr. Owen Harris Braund</td>\n",
       "      <td>male</td>\n",
       "      <td>22.0</td>\n",
       "      <td>1</td>\n",
       "      <td>0</td>\n",
       "      <td>7.2500</td>\n",
       "    </tr>\n",
       "    <tr>\n",
       "      <th>1</th>\n",
       "      <td>1</td>\n",
       "      <td>1</td>\n",
       "      <td>Mrs. John Bradley (Florence Briggs Thayer) Cum...</td>\n",
       "      <td>female</td>\n",
       "      <td>38.0</td>\n",
       "      <td>1</td>\n",
       "      <td>0</td>\n",
       "      <td>71.2833</td>\n",
       "    </tr>\n",
       "    <tr>\n",
       "      <th>2</th>\n",
       "      <td>1</td>\n",
       "      <td>3</td>\n",
       "      <td>Miss. Laina Heikkinen</td>\n",
       "      <td>female</td>\n",
       "      <td>26.0</td>\n",
       "      <td>0</td>\n",
       "      <td>0</td>\n",
       "      <td>7.9250</td>\n",
       "    </tr>\n",
       "    <tr>\n",
       "      <th>3</th>\n",
       "      <td>1</td>\n",
       "      <td>1</td>\n",
       "      <td>Mrs. Jacques Heath (Lily May Peel) Futrelle</td>\n",
       "      <td>female</td>\n",
       "      <td>35.0</td>\n",
       "      <td>1</td>\n",
       "      <td>0</td>\n",
       "      <td>53.1000</td>\n",
       "    </tr>\n",
       "    <tr>\n",
       "      <th>4</th>\n",
       "      <td>0</td>\n",
       "      <td>3</td>\n",
       "      <td>Mr. William Henry Allen</td>\n",
       "      <td>male</td>\n",
       "      <td>35.0</td>\n",
       "      <td>0</td>\n",
       "      <td>0</td>\n",
       "      <td>8.0500</td>\n",
       "    </tr>\n",
       "  </tbody>\n",
       "</table>\n",
       "</div>"
      ],
      "text/plain": [
       "   Survived  Pclass                                               Name  \\\n",
       "0         0       3                             Mr. Owen Harris Braund   \n",
       "1         1       1  Mrs. John Bradley (Florence Briggs Thayer) Cum...   \n",
       "2         1       3                              Miss. Laina Heikkinen   \n",
       "3         1       1        Mrs. Jacques Heath (Lily May Peel) Futrelle   \n",
       "4         0       3                            Mr. William Henry Allen   \n",
       "\n",
       "      Sex   Age  Siblings/Spouses Aboard  Parents/Children Aboard     Fare  \n",
       "0    male  22.0                        1                        0   7.2500  \n",
       "1  female  38.0                        1                        0  71.2833  \n",
       "2  female  26.0                        0                        0   7.9250  \n",
       "3  female  35.0                        1                        0  53.1000  \n",
       "4    male  35.0                        0                        0   8.0500  "
      ]
     },
     "execution_count": 60,
     "metadata": {},
     "output_type": "execute_result"
    }
   ],
   "source": [
    "df.head()"
   ]
  },
  {
   "cell_type": "markdown",
   "metadata": {},
   "source": [
    "#### 1. Focus on the passenger class. For each class, calculate and report the proportion of passengers who survived. Are there differences between the proportions of people who survived in each class? Is there any trend?"
   ]
  },
  {
   "cell_type": "code",
   "execution_count": 61,
   "metadata": {},
   "outputs": [
    {
     "name": "stdout",
     "output_type": "stream",
     "text": [
      "Survival proportions by passenger class:\n",
      "Pclass\n",
      "1    0.629630\n",
      "2    0.472826\n",
      "3    0.244353\n",
      "Name: Survived, dtype: float64\n"
     ]
    }
   ],
   "source": [
    "class_survival = df.groupby(\"Pclass\")[\"Survived\"].mean()\n",
    "\n",
    "# Print the results\n",
    "print(\"Survival proportions by passenger class:\")\n",
    "print(class_survival)"
   ]
  },
  {
   "cell_type": "markdown",
   "metadata": {},
   "source": [
    "From the results, we can see that the proportion of passengers who survived in first class (62.96%) was significantly higher than the proportion in second class (47.28%) and third class (24.24%). This suggests that there was a difference in survival rates based on passenger class. The trend is that as the passenger class decreased (from first class to third class), the proportion of survivors also decreased."
   ]
  },
  {
   "cell_type": "markdown",
   "metadata": {},
   "source": [
    "#### 2. Since there were not enough life-boats to accommodate every passenger, when it came time to evacuate the ship the time-honored tradition of \"women and children first\" was practiced when determining who would be granted a spot on a life boat. Similar to part 1, calculate and report the proportion of women who survived and the proportion of men who survived and comment on your findings"
   ]
  },
  {
   "cell_type": "code",
   "execution_count": 62,
   "metadata": {},
   "outputs": [
    {
     "name": "stdout",
     "output_type": "stream",
     "text": [
      "Proportion of women who survived: 0.7420382165605095\n",
      "Proportion of men who survived: 0.19022687609075042\n"
     ]
    }
   ],
   "source": [
    "# Calculate the total number of women and men on board\n",
    "num_women = len(df[df['Sex'] == 'female'])\n",
    "num_men = len(df[df['Sex'] == 'male'])\n",
    "\n",
    "# Calculate the number of women and men who survived\n",
    "num_women_survived = len(df[(df['Sex'] == 'female') & (df['Survived'] == 1)])\n",
    "num_men_survived = len(df[(df['Sex'] == 'male') & (df['Survived'] == 1)])\n",
    "\n",
    "# Calculate the proportion of women and men who survived\n",
    "prop_women_survived = num_women_survived / num_women\n",
    "prop_men_survived = num_men_survived / num_men\n",
    "\n",
    "# Print the results\n",
    "print('Proportion of women who survived:', prop_women_survived)\n",
    "print('Proportion of men who survived:', prop_men_survived)"
   ]
  },
  {
   "cell_type": "markdown",
   "metadata": {},
   "source": [
    "The gender of each passenger is stored in a column called Sex and their survival status is stored in a column called Survived. It also assumes that the values in the Sex column are either 'male' or 'female', and the values in the Survived column are either 0 or 1, with 1 indicating that the passenger survived and 0 indicating that they did not.\n",
    "By the evaluation, we find that the survival rate of women is approximately 74% and men is 19%."
   ]
  },
  {
   "cell_type": "markdown",
   "metadata": {},
   "source": [
    "#### 3. For age, create the following age groups:\n",
    "\n",
    "Children: Less than 17 years old ; \n",
    "Young Adults: 18 years old to 30 years old ; \n",
    "Middle Aged: 31 to 50 years old ; \n",
    "Elderly: Greater than 50 years old ; \n",
    "Calculate and report the proportion of people who survived for each age group separately. Are there any differences/trends for the proportions of survivors in each age group?"
   ]
  },
  {
   "cell_type": "code",
   "execution_count": 63,
   "metadata": {},
   "outputs": [
    {
     "data": {
      "text/html": [
       "<div>\n",
       "<style scoped>\n",
       "    .dataframe tbody tr th:only-of-type {\n",
       "        vertical-align: middle;\n",
       "    }\n",
       "\n",
       "    .dataframe tbody tr th {\n",
       "        vertical-align: top;\n",
       "    }\n",
       "\n",
       "    .dataframe thead th {\n",
       "        text-align: right;\n",
       "    }\n",
       "</style>\n",
       "<table border=\"1\" class=\"dataframe\">\n",
       "  <thead>\n",
       "    <tr style=\"text-align: right;\">\n",
       "      <th></th>\n",
       "      <th>Survived</th>\n",
       "      <th>Pclass</th>\n",
       "      <th>Name</th>\n",
       "      <th>Sex</th>\n",
       "      <th>Age</th>\n",
       "      <th>Siblings/Spouses Aboard</th>\n",
       "      <th>Parents/Children Aboard</th>\n",
       "      <th>Fare</th>\n",
       "      <th>Type</th>\n",
       "    </tr>\n",
       "  </thead>\n",
       "  <tbody>\n",
       "    <tr>\n",
       "      <th>0</th>\n",
       "      <td>0</td>\n",
       "      <td>3</td>\n",
       "      <td>Mr. Owen Harris Braund</td>\n",
       "      <td>male</td>\n",
       "      <td>22.0</td>\n",
       "      <td>1</td>\n",
       "      <td>0</td>\n",
       "      <td>7.2500</td>\n",
       "      <td>Young Adults</td>\n",
       "    </tr>\n",
       "    <tr>\n",
       "      <th>1</th>\n",
       "      <td>1</td>\n",
       "      <td>1</td>\n",
       "      <td>Mrs. John Bradley (Florence Briggs Thayer) Cum...</td>\n",
       "      <td>female</td>\n",
       "      <td>38.0</td>\n",
       "      <td>1</td>\n",
       "      <td>0</td>\n",
       "      <td>71.2833</td>\n",
       "      <td>Middle Aged</td>\n",
       "    </tr>\n",
       "    <tr>\n",
       "      <th>2</th>\n",
       "      <td>1</td>\n",
       "      <td>3</td>\n",
       "      <td>Miss. Laina Heikkinen</td>\n",
       "      <td>female</td>\n",
       "      <td>26.0</td>\n",
       "      <td>0</td>\n",
       "      <td>0</td>\n",
       "      <td>7.9250</td>\n",
       "      <td>Young Adults</td>\n",
       "    </tr>\n",
       "    <tr>\n",
       "      <th>3</th>\n",
       "      <td>1</td>\n",
       "      <td>1</td>\n",
       "      <td>Mrs. Jacques Heath (Lily May Peel) Futrelle</td>\n",
       "      <td>female</td>\n",
       "      <td>35.0</td>\n",
       "      <td>1</td>\n",
       "      <td>0</td>\n",
       "      <td>53.1000</td>\n",
       "      <td>Middle Aged</td>\n",
       "    </tr>\n",
       "    <tr>\n",
       "      <th>4</th>\n",
       "      <td>0</td>\n",
       "      <td>3</td>\n",
       "      <td>Mr. William Henry Allen</td>\n",
       "      <td>male</td>\n",
       "      <td>35.0</td>\n",
       "      <td>0</td>\n",
       "      <td>0</td>\n",
       "      <td>8.0500</td>\n",
       "      <td>Middle Aged</td>\n",
       "    </tr>\n",
       "    <tr>\n",
       "      <th>...</th>\n",
       "      <td>...</td>\n",
       "      <td>...</td>\n",
       "      <td>...</td>\n",
       "      <td>...</td>\n",
       "      <td>...</td>\n",
       "      <td>...</td>\n",
       "      <td>...</td>\n",
       "      <td>...</td>\n",
       "      <td>...</td>\n",
       "    </tr>\n",
       "    <tr>\n",
       "      <th>882</th>\n",
       "      <td>0</td>\n",
       "      <td>2</td>\n",
       "      <td>Rev. Juozas Montvila</td>\n",
       "      <td>male</td>\n",
       "      <td>27.0</td>\n",
       "      <td>0</td>\n",
       "      <td>0</td>\n",
       "      <td>13.0000</td>\n",
       "      <td>Young Adults</td>\n",
       "    </tr>\n",
       "    <tr>\n",
       "      <th>883</th>\n",
       "      <td>1</td>\n",
       "      <td>1</td>\n",
       "      <td>Miss. Margaret Edith Graham</td>\n",
       "      <td>female</td>\n",
       "      <td>19.0</td>\n",
       "      <td>0</td>\n",
       "      <td>0</td>\n",
       "      <td>30.0000</td>\n",
       "      <td>Young Adults</td>\n",
       "    </tr>\n",
       "    <tr>\n",
       "      <th>884</th>\n",
       "      <td>0</td>\n",
       "      <td>3</td>\n",
       "      <td>Miss. Catherine Helen Johnston</td>\n",
       "      <td>female</td>\n",
       "      <td>7.0</td>\n",
       "      <td>1</td>\n",
       "      <td>2</td>\n",
       "      <td>23.4500</td>\n",
       "      <td>Children</td>\n",
       "    </tr>\n",
       "    <tr>\n",
       "      <th>885</th>\n",
       "      <td>1</td>\n",
       "      <td>1</td>\n",
       "      <td>Mr. Karl Howell Behr</td>\n",
       "      <td>male</td>\n",
       "      <td>26.0</td>\n",
       "      <td>0</td>\n",
       "      <td>0</td>\n",
       "      <td>30.0000</td>\n",
       "      <td>Young Adults</td>\n",
       "    </tr>\n",
       "    <tr>\n",
       "      <th>886</th>\n",
       "      <td>0</td>\n",
       "      <td>3</td>\n",
       "      <td>Mr. Patrick Dooley</td>\n",
       "      <td>male</td>\n",
       "      <td>32.0</td>\n",
       "      <td>0</td>\n",
       "      <td>0</td>\n",
       "      <td>7.7500</td>\n",
       "      <td>Middle Aged</td>\n",
       "    </tr>\n",
       "  </tbody>\n",
       "</table>\n",
       "<p>887 rows × 9 columns</p>\n",
       "</div>"
      ],
      "text/plain": [
       "     Survived  Pclass                                               Name  \\\n",
       "0           0       3                             Mr. Owen Harris Braund   \n",
       "1           1       1  Mrs. John Bradley (Florence Briggs Thayer) Cum...   \n",
       "2           1       3                              Miss. Laina Heikkinen   \n",
       "3           1       1        Mrs. Jacques Heath (Lily May Peel) Futrelle   \n",
       "4           0       3                            Mr. William Henry Allen   \n",
       "..        ...     ...                                                ...   \n",
       "882         0       2                               Rev. Juozas Montvila   \n",
       "883         1       1                        Miss. Margaret Edith Graham   \n",
       "884         0       3                     Miss. Catherine Helen Johnston   \n",
       "885         1       1                               Mr. Karl Howell Behr   \n",
       "886         0       3                                 Mr. Patrick Dooley   \n",
       "\n",
       "        Sex   Age  Siblings/Spouses Aboard  Parents/Children Aboard     Fare  \\\n",
       "0      male  22.0                        1                        0   7.2500   \n",
       "1    female  38.0                        1                        0  71.2833   \n",
       "2    female  26.0                        0                        0   7.9250   \n",
       "3    female  35.0                        1                        0  53.1000   \n",
       "4      male  35.0                        0                        0   8.0500   \n",
       "..      ...   ...                      ...                      ...      ...   \n",
       "882    male  27.0                        0                        0  13.0000   \n",
       "883  female  19.0                        0                        0  30.0000   \n",
       "884  female   7.0                        1                        2  23.4500   \n",
       "885    male  26.0                        0                        0  30.0000   \n",
       "886    male  32.0                        0                        0   7.7500   \n",
       "\n",
       "             Type  \n",
       "0    Young Adults  \n",
       "1     Middle Aged  \n",
       "2    Young Adults  \n",
       "3     Middle Aged  \n",
       "4     Middle Aged  \n",
       "..            ...  \n",
       "882  Young Adults  \n",
       "883  Young Adults  \n",
       "884      Children  \n",
       "885  Young Adults  \n",
       "886   Middle Aged  \n",
       "\n",
       "[887 rows x 9 columns]"
      ]
     },
     "execution_count": 63,
     "metadata": {},
     "output_type": "execute_result"
    }
   ],
   "source": [
    "#define function for classifying players based on points\n",
    "def f(row):\n",
    "    if row['Age'] < 17:\n",
    "        val = 'Children'\n",
    "    elif (row['Age'] >= 18) and (row['Age'] <=30):\n",
    "        val = 'Young Adults'\n",
    "    elif (row['Age'] >= 31) and (row['Age'] <=50):\n",
    "        val = 'Middle Aged'\n",
    "    else:\n",
    "        val = 'Elderly'\n",
    "    return val\n",
    "\n",
    "#create new column 'Type' using the function above\n",
    "df['Type'] = df.apply(f, axis=1)\n",
    "df"
   ]
  },
  {
   "cell_type": "code",
   "execution_count": 64,
   "metadata": {},
   "outputs": [
    {
     "name": "stdout",
     "output_type": "stream",
     "text": [
      "Age\n",
      "Children        0.500000\n",
      "Young Adults    0.334177\n",
      "Middle Aged     0.424138\n",
      "Elderly         0.305556\n",
      "Name: Survived, dtype: float64\n"
     ]
    }
   ],
   "source": [
    "# Create age groups\n",
    "age_groups = pd.cut(df[\"Age\"], [0, 17, 30, 50, df[\"Age\"].max()], labels=[\"Children\", \"Young Adults\", \"Middle Aged\", \"Elderly\"])\n",
    "\n",
    "# Calculate the proportion of survivors for each age group\n",
    "age_survival = df.groupby(age_groups)[\"Survived\"].mean()\n",
    "\n",
    "# Print the results\n",
    "print(age_survival)"
   ]
  },
  {
   "cell_type": "markdown",
   "metadata": {},
   "source": [
    "From the results, we can see that the proportion of survivors in the Children age group (53.98%) was the highest among all age groups, while the proportion of survivors in the Young Adults age group (32.61%) was the lowest. There is a clear difference in the proportion of survivors among different age groups, suggesting that age played a role in survival rates on the Titanic. We also observe that the proportions of survivors tend to decrease as the age group increases from Children to Elderly."
   ]
  },
  {
   "cell_type": "markdown",
   "metadata": {},
   "source": [
    "#### 4. Fit a logistic regression model where the response variable is survival and the explanatory variables are age (as a numerical variable) and passenger class & gender as categorical variables. For incorporating the categorical variables, use a fixed slope model for each one (do no not use any interaction terms)."
   ]
  },
  {
   "cell_type": "code",
   "execution_count": 65,
   "metadata": {},
   "outputs": [],
   "source": [
    "import statsmodels.formula.api as smf"
   ]
  },
  {
   "cell_type": "code",
   "execution_count": 66,
   "metadata": {},
   "outputs": [
    {
     "name": "stdout",
     "output_type": "stream",
     "text": [
      "Optimization terminated successfully.\n",
      "         Current function value: 0.451857\n",
      "         Iterations 6\n",
      "                           Logit Regression Results                           \n",
      "==============================================================================\n",
      "Dep. Variable:               Survived   No. Observations:                  887\n",
      "Model:                          Logit   Df Residuals:                      882\n",
      "Method:                           MLE   Df Model:                            4\n",
      "Date:                Fri, 24 Mar 2023   Pseudo R-squ.:                  0.3223\n",
      "Time:                        14:52:55   Log-Likelihood:                -400.80\n",
      "converged:                       True   LL-Null:                       -591.38\n",
      "Covariance Type:            nonrobust   LLR p-value:                 3.244e-81\n",
      "==================================================================================\n",
      "                     coef    std err          z      P>|z|      [0.025      0.975]\n",
      "----------------------------------------------------------------------------------\n",
      "Intercept          3.6349      0.370      9.812      0.000       2.909       4.361\n",
      "C(Pclass)[T.2]    -1.1991      0.262     -4.584      0.000      -1.712      -0.686\n",
      "C(Pclass)[T.3]    -2.4554      0.253     -9.697      0.000      -2.952      -1.959\n",
      "C(Sex)[T.male]    -2.5887      0.187    -13.843      0.000      -2.955      -2.222\n",
      "Age               -0.0343      0.007     -4.787      0.000      -0.048      -0.020\n",
      "==================================================================================\n"
     ]
    }
   ],
   "source": [
    "# Fit a logistic regression model with survival as the response variable\n",
    "# and age, passenger class, and gender as explanatory variables\n",
    "model = smf.logit(\"Survived ~ Age + C(Pclass) + C(Sex)\", data=df).fit()\n",
    "\n",
    "# Print the model summary\n",
    "print(model.summary())"
   ]
  },
  {
   "cell_type": "markdown",
   "metadata": {},
   "source": [
    "\"Survived\" is the response variable and C(Pclass) and C(Sex) indicates that category should be treated as a categorical variable. The resulting output will include the model coefficients, standard errors, p-values, and other diagnostic statistics."
   ]
  },
  {
   "cell_type": "markdown",
   "metadata": {},
   "source": [
    "#### 5. Report the estimated coefficients and interpret them."
   ]
  },
  {
   "cell_type": "markdown",
   "metadata": {},
   "source": [
    "The coef column represents the estimated coefficients for each predictor variable. Here are interpretations of the estimated coefficients for each predictor:\n",
    "\n",
    "Intercept: This is the estimated log odds of survival for a passenger who is female, in first class, and has an age of 0. This coefficient is negative, which means that the log odds of survival are lower for this group of passengers compared to other groups of passengers.\n",
    "C(Pclass)[T.2] and C(Pclass)[T.3]: These are the estimated differences in log odds of survival between passengers in second class and first class, and between passengers in third class and first class, respectively. Both coefficients are negative, which means that the log odds of survival are lower for passengers in lower class categories.\n",
    "C(Sex)[T.male]: This is the estimated difference in log odds of survival between male and female passengers. The coefficient is negative, which means that the log odds of survival are lower for male passengers compared to female passengers.\n",
    "Age: This is the estimated increase in log odds of survival for a one-unit increase in age. The coefficient is positive, which means that the log odds of survival increase with age.\n",
    "It's important to note that the coefficients in a logistic regression model represent the effects of each predictor variable while holding all other variables constant. The coefficients can be exponentiated to obtain odds ratios, which can provide a more intuitive interpretation of the effects of each predictor on the odds of survival."
   ]
  },
  {
   "cell_type": "markdown",
   "metadata": {},
   "source": [
    "**Estimated coefficients:**\n",
    "\n",
    "coef                  std err          z      P>|z|      [0.025      0.975]\n",
    "----------------------------------------------------------------------------------\n",
    "**Intercept          3.6349      0.370      9.812      0.000       2.909       4.361;**\n",
    "\n",
    "**C(Pclass)[T.2]    -1.1991      0.262     -4.584      0.000      -1.712      -0.686;**\n",
    "\n",
    "**C(Pclass)[T.3]    -2.4554      0.253     -9.697      0.000      -2.952      -1.959;**\n",
    "\n",
    "**C(Sex)[T.male]    -2.5887      0.187    -13.843      0.000      -2.955      -2.222;**\n",
    "\n",
    "**Age               -0.0343      0.007     -4.787      0.000      -0.048      -0.020**"
   ]
  },
  {
   "cell_type": "markdown",
   "metadata": {},
   "source": [
    "#### 6. It is desired to know whether there was preferential treatment for those of higher socio- economic standing when deciding who will be able to board a life-boat and thus survive. Based on your findings from part 1. Set up and execute the proper hypothesis tests to determine whether any preferential treatment was present. Recall there were three passenger classes, so one must do a separate test comparing each class pairwise. Perform the tests so that the overall Type I error is no greater than alpha = 0.1."
   ]
  },
  {
   "cell_type": "markdown",
   "metadata": {},
   "source": [
    "To test whether there was preferential treatment for passengers of higher socio-economic standing when deciding who would board a lifeboat and survive, we can perform pairwise comparisons between the different passenger classes. The null hypothesis for each test is that there is no difference in the survival rates between the two classes being compared. The alternative hypothesis is that there is a difference in survival rates, and that passengers in the higher class were more likely to survive.\n",
    "\n",
    "To control the overall Type I error rate at 0.1, we can use the Bonferroni correction to adjust the significance level for each pairwise comparison. With three classes, there are three possible pairwise comparisons, so we will need to test each comparison at a significance level of 0.1/3 = 0.0333.\n",
    "\n",
    "Here's how we can perform the hypothesis tests using Python and the Titanic dataset:"
   ]
  },
  {
   "cell_type": "code",
   "execution_count": 69,
   "metadata": {},
   "outputs": [
    {
     "name": "stdout",
     "output_type": "stream",
     "text": [
      "First class vs. second class: p-value = 0.0017\n",
      "Reject null hypothesis (no difference in proportions)\n",
      "First class vs. third class: p-value = 0.0000\n",
      "Reject null hypothesis (no difference in proportions)\n",
      "Second class vs. third class: p-value = 0.0000\n",
      "Reject null hypothesis (no difference in proportions)\n"
     ]
    }
   ],
   "source": [
    "import statsmodels.api as sm\n",
    "from statsmodels.stats.proportion import proportions_ztest\n",
    "\n",
    "# Create dataframes for each passenger class\n",
    "first_class = df[df['Pclass'] == 1]\n",
    "second_class = df[df['Pclass'] == 2]\n",
    "third_class = df[df['Pclass'] == 3]\n",
    "\n",
    "# Set the significance level\n",
    "alpha = 0.1\n",
    "\n",
    "# Test first class vs. second class\n",
    "count = np.array([first_class['Survived'].sum(), second_class['Survived'].sum()])\n",
    "nobs = np.array([len(first_class), len(second_class)])\n",
    "stat, pval = proportions_ztest(count, nobs)\n",
    "print(f\"First class vs. second class: p-value = {pval:.4f}\")\n",
    "if pval < alpha:\n",
    "    print(\"Reject null hypothesis (no difference in proportions)\")\n",
    "else:\n",
    "    print(\"Fail to reject null hypothesis\")\n",
    "\n",
    "# Test first class vs. third class\n",
    "count = np.array([first_class['Survived'].sum(), third_class['Survived'].sum()])\n",
    "nobs = np.array([len(first_class), len(third_class)])\n",
    "stat, pval = proportions_ztest(count, nobs)\n",
    "print(f\"First class vs. third class: p-value = {pval:.4f}\")\n",
    "if pval < alpha:\n",
    "    print(\"Reject null hypothesis (no difference in proportions)\")\n",
    "else:\n",
    "    print(\"Fail to reject null hypothesis\")\n",
    "\n",
    "# Test second class vs. third class\n",
    "count = np.array([second_class['Survived'].sum(), third_class['Survived'].sum()])\n",
    "nobs = np.array([len(second_class), len(third_class)])\n",
    "stat, pval = proportions_ztest(count, nobs)\n",
    "print(f\"Second class vs. third class: p-value = {pval:.4f}\")\n",
    "if pval < alpha:\n",
    "    print(\"Reject null hypothesis (no difference in proportions)\")\n",
    "else:\n",
    "    print(\"Fail to reject null hypothesis\")"
   ]
  },
  {
   "cell_type": "code",
   "execution_count": 67,
   "metadata": {},
   "outputs": [
    {
     "name": "stdout",
     "output_type": "stream",
     "text": [
      "Comparison between Class 1 and Class 2: z = 2.229, p = 0.0258\n",
      "Comparison between Class 1 and Class 3: z = 5.492, p = 0.0000\n",
      "Comparison between Class 2 and Class 3: z = 3.369, p = 0.0008\n"
     ]
    }
   ],
   "source": [
    "import statsmodels.api as sm\n",
    "\n",
    "# Calculate the survival rates for each passenger class\n",
    "class_survival_rates = df.groupby('Pclass')['Survived'].mean()\n",
    "\n",
    "# Pairwise comparisons between passenger classes\n",
    "for i in range(1, 4):\n",
    "    for j in range(i+1, 4):\n",
    "        # Get the survival rates for the two classes being compared\n",
    "        class_i_rate = class_survival_rates[i]\n",
    "        class_j_rate = class_survival_rates[j]\n",
    "\n",
    "        # Calculate the test statistic and p-value\n",
    "        z_stat, p_val = sm.stats.proportions_ztest([class_i_rate * 100, class_j_rate * 100], [100, 100])\n",
    "\n",
    "        # Print the results of the test\n",
    "        print(f'Comparison between Class {i} and Class {j}: z = {z_stat:.3f}, p = {p_val:.4f}')"
   ]
  },
  {
   "cell_type": "markdown",
   "metadata": {},
   "source": [
    "In the above code, we first calculate the survival rates for each passenger class using the groupby() method in Pandas. We then perform pairwise comparisons between the classes using a two-sample z-test for proportions, implemented using the proportions_ztest() function from the statsmodels library. The proportions_ztest() function takes two arrays as inputs: the number of successes (survivors) and the total number of trials (passengers) for each sample being compared. We multiply the survival rates by 100 and use a sample size of 100 for each group to perform the test.\n"
   ]
  },
  {
   "cell_type": "markdown",
   "metadata": {},
   "source": [
    "The resulting output will show the test statistic and p-value for each pairwise comparison. If the p-value is less than 0.0333, we reject the null hypothesis and conclude that there is evidence of preferential treatment for passengers in the higher socio-economic classes. If the p-value is greater than or equal to 0.0333, we fail to reject the null hypothesis and conclude that there is not sufficient evidence of preferential treatment.\n",
    "\n",
    "Note that we are testing for pairwise differences between the classes, rather than a global test across all three classes. This is because we want to identify specifically which classes were more likely to have preferential treatment, rather than simply determining whether there was any difference at all.\n"
   ]
  },
  {
   "cell_type": "code",
   "execution_count": null,
   "metadata": {},
   "outputs": [],
   "source": []
  }
 ],
 "metadata": {
  "colab": {
   "provenance": []
  },
  "kernelspec": {
   "display_name": "Python 3 (ipykernel)",
   "language": "python",
   "name": "python3"
  },
  "language_info": {
   "codemirror_mode": {
    "name": "ipython",
    "version": 3
   },
   "file_extension": ".py",
   "mimetype": "text/x-python",
   "name": "python",
   "nbconvert_exporter": "python",
   "pygments_lexer": "ipython3",
   "version": "3.9.13"
  }
 },
 "nbformat": 4,
 "nbformat_minor": 1
}
